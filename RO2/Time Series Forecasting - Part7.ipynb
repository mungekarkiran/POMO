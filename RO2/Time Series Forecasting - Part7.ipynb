{
 "cells": [
  {
   "cell_type": "markdown",
   "metadata": {},
   "source": [
    "# POMO Time Series Forecasting"
   ]
  },
  {
   "cell_type": "markdown",
   "metadata": {},
   "source": [
    "Time Series Forecasting with "
   ]
  },
  {
   "cell_type": "code",
   "execution_count": 24,
   "metadata": {},
   "outputs": [],
   "source": [
    "# Load the library\n",
    "import numpy as np\n",
    "import pandas as pd\n",
    "import matplotlib.pyplot as plt\n",
    "\n",
    "import keras\n",
    "from keras.models import Sequential\n",
    "from keras.layers import LSTM\n",
    "from keras.layers import Dense\n",
    "from keras.layers import Flatten\n",
    "\n",
    "from sklearn.preprocessing import MinMaxScaler\n",
    "from sklearn.metrics import mean_squared_error"
   ]
  },
  {
   "cell_type": "code",
   "execution_count": 25,
   "metadata": {},
   "outputs": [
    {
     "data": {
      "text/html": [
       "<div>\n",
       "<style scoped>\n",
       "    .dataframe tbody tr th:only-of-type {\n",
       "        vertical-align: middle;\n",
       "    }\n",
       "\n",
       "    .dataframe tbody tr th {\n",
       "        vertical-align: top;\n",
       "    }\n",
       "\n",
       "    .dataframe thead th {\n",
       "        text-align: right;\n",
       "    }\n",
       "</style>\n",
       "<table border=\"1\" class=\"dataframe\">\n",
       "  <thead>\n",
       "    <tr style=\"text-align: right;\">\n",
       "      <th></th>\n",
       "      <th>observation</th>\n",
       "      <th>date</th>\n",
       "      <th>month</th>\n",
       "      <th>year</th>\n",
       "      <th>tempC_7to8</th>\n",
       "      <th>tempC_1to2</th>\n",
       "      <th>tempC_6to7</th>\n",
       "      <th>tempC_avg(0C)</th>\n",
       "      <th>Relative humidity_7to8</th>\n",
       "      <th>Relative humidity_1to2</th>\n",
       "      <th>...</th>\n",
       "      <th>soil_pH</th>\n",
       "      <th>water_pH</th>\n",
       "      <th>water_TDS_mgpl</th>\n",
       "      <th>Label (Disease Yes/No)</th>\n",
       "      <th>Type of Disease (Bacterial Blight/Telya)</th>\n",
       "      <th>Anthracnose</th>\n",
       "      <th>Fruit Spot/ Rot</th>\n",
       "      <th>Fusarium Wilt</th>\n",
       "      <th>Fruit Borer / Blight Blora</th>\n",
       "      <th>NewLabel</th>\n",
       "    </tr>\n",
       "  </thead>\n",
       "  <tbody>\n",
       "    <tr>\n",
       "      <th>0</th>\n",
       "      <td>2010-01-01</td>\n",
       "      <td>1</td>\n",
       "      <td>1</td>\n",
       "      <td>2010</td>\n",
       "      <td>20</td>\n",
       "      <td>30</td>\n",
       "      <td>20</td>\n",
       "      <td>23</td>\n",
       "      <td>42</td>\n",
       "      <td>33</td>\n",
       "      <td>...</td>\n",
       "      <td>6.91</td>\n",
       "      <td>7.18</td>\n",
       "      <td>1709.0</td>\n",
       "      <td>0</td>\n",
       "      <td>0</td>\n",
       "      <td>0</td>\n",
       "      <td>0</td>\n",
       "      <td>0</td>\n",
       "      <td>0</td>\n",
       "      <td>0</td>\n",
       "    </tr>\n",
       "    <tr>\n",
       "      <th>1</th>\n",
       "      <td>2010-01-02</td>\n",
       "      <td>2</td>\n",
       "      <td>1</td>\n",
       "      <td>2010</td>\n",
       "      <td>23</td>\n",
       "      <td>29</td>\n",
       "      <td>23</td>\n",
       "      <td>25</td>\n",
       "      <td>49</td>\n",
       "      <td>40</td>\n",
       "      <td>...</td>\n",
       "      <td>6.77</td>\n",
       "      <td>7.66</td>\n",
       "      <td>1707.0</td>\n",
       "      <td>1</td>\n",
       "      <td>1</td>\n",
       "      <td>1</td>\n",
       "      <td>0</td>\n",
       "      <td>0</td>\n",
       "      <td>0</td>\n",
       "      <td>24</td>\n",
       "    </tr>\n",
       "    <tr>\n",
       "      <th>2</th>\n",
       "      <td>2010-01-03</td>\n",
       "      <td>3</td>\n",
       "      <td>1</td>\n",
       "      <td>2010</td>\n",
       "      <td>24</td>\n",
       "      <td>27</td>\n",
       "      <td>21</td>\n",
       "      <td>24</td>\n",
       "      <td>61</td>\n",
       "      <td>50</td>\n",
       "      <td>...</td>\n",
       "      <td>6.76</td>\n",
       "      <td>7.44</td>\n",
       "      <td>1707.0</td>\n",
       "      <td>0</td>\n",
       "      <td>0</td>\n",
       "      <td>0</td>\n",
       "      <td>0</td>\n",
       "      <td>0</td>\n",
       "      <td>0</td>\n",
       "      <td>0</td>\n",
       "    </tr>\n",
       "    <tr>\n",
       "      <th>3</th>\n",
       "      <td>2010-01-04</td>\n",
       "      <td>4</td>\n",
       "      <td>1</td>\n",
       "      <td>2010</td>\n",
       "      <td>23</td>\n",
       "      <td>29</td>\n",
       "      <td>20</td>\n",
       "      <td>24</td>\n",
       "      <td>57</td>\n",
       "      <td>30</td>\n",
       "      <td>...</td>\n",
       "      <td>7.10</td>\n",
       "      <td>7.43</td>\n",
       "      <td>1708.0</td>\n",
       "      <td>0</td>\n",
       "      <td>0</td>\n",
       "      <td>0</td>\n",
       "      <td>0</td>\n",
       "      <td>0</td>\n",
       "      <td>0</td>\n",
       "      <td>0</td>\n",
       "    </tr>\n",
       "    <tr>\n",
       "      <th>4</th>\n",
       "      <td>2010-01-05</td>\n",
       "      <td>5</td>\n",
       "      <td>1</td>\n",
       "      <td>2010</td>\n",
       "      <td>22</td>\n",
       "      <td>30</td>\n",
       "      <td>21</td>\n",
       "      <td>24</td>\n",
       "      <td>48</td>\n",
       "      <td>34</td>\n",
       "      <td>...</td>\n",
       "      <td>6.53</td>\n",
       "      <td>8.05</td>\n",
       "      <td>1709.0</td>\n",
       "      <td>0</td>\n",
       "      <td>0</td>\n",
       "      <td>0</td>\n",
       "      <td>0</td>\n",
       "      <td>0</td>\n",
       "      <td>0</td>\n",
       "      <td>0</td>\n",
       "    </tr>\n",
       "  </tbody>\n",
       "</table>\n",
       "<p>5 rows × 40 columns</p>\n",
       "</div>"
      ],
      "text/plain": [
       "  observation  date  month  year  tempC_7to8  tempC_1to2  tempC_6to7  \\\n",
       "0  2010-01-01     1      1  2010          20          30          20   \n",
       "1  2010-01-02     2      1  2010          23          29          23   \n",
       "2  2010-01-03     3      1  2010          24          27          21   \n",
       "3  2010-01-04     4      1  2010          23          29          20   \n",
       "4  2010-01-05     5      1  2010          22          30          21   \n",
       "\n",
       "   tempC_avg(0C)  Relative humidity_7to8  Relative humidity_1to2  ...  \\\n",
       "0             23                      42                      33  ...   \n",
       "1             25                      49                      40  ...   \n",
       "2             24                      61                      50  ...   \n",
       "3             24                      57                      30  ...   \n",
       "4             24                      48                      34  ...   \n",
       "\n",
       "   soil_pH  water_pH  water_TDS_mgpl  Label (Disease Yes/No)  \\\n",
       "0     6.91      7.18          1709.0                       0   \n",
       "1     6.77      7.66          1707.0                       1   \n",
       "2     6.76      7.44          1707.0                       0   \n",
       "3     7.10      7.43          1708.0                       0   \n",
       "4     6.53      8.05          1709.0                       0   \n",
       "\n",
       "   Type of Disease (Bacterial Blight/Telya)  Anthracnose  Fruit Spot/ Rot  \\\n",
       "0                                         0            0                0   \n",
       "1                                         1            1                0   \n",
       "2                                         0            0                0   \n",
       "3                                         0            0                0   \n",
       "4                                         0            0                0   \n",
       "\n",
       "   Fusarium Wilt  Fruit Borer / Blight Blora  NewLabel  \n",
       "0              0                           0         0  \n",
       "1              0                           0        24  \n",
       "2              0                           0         0  \n",
       "3              0                           0         0  \n",
       "4              0                           0         0  \n",
       "\n",
       "[5 rows x 40 columns]"
      ]
     },
     "execution_count": 25,
     "metadata": {},
     "output_type": "execute_result"
    }
   ],
   "source": [
    "# Load the dataset\n",
    "df = pd.read_csv(\"POMO_dataset/Historical Weather Data 2010-2021_preprocessed_2.csv\")\n",
    "df.head()"
   ]
  },
  {
   "cell_type": "code",
   "execution_count": 26,
   "metadata": {},
   "outputs": [
    {
     "name": "stdout",
     "output_type": "stream",
     "text": [
      "<class 'pandas.core.frame.DataFrame'>\n",
      "RangeIndex: 4178 entries, 0 to 4177\n",
      "Data columns (total 40 columns):\n",
      " #   Column                                    Non-Null Count  Dtype  \n",
      "---  ------                                    --------------  -----  \n",
      " 0   observation                               4178 non-null   object \n",
      " 1   date                                      4178 non-null   int64  \n",
      " 2   month                                     4178 non-null   int64  \n",
      " 3   year                                      4178 non-null   int64  \n",
      " 4   tempC_7to8                                4178 non-null   int64  \n",
      " 5   tempC_1to2                                4178 non-null   int64  \n",
      " 6   tempC_6to7                                4178 non-null   int64  \n",
      " 7   tempC_avg(0C)                             4178 non-null   int64  \n",
      " 8   Relative humidity_7to8                    4178 non-null   int64  \n",
      " 9   Relative humidity_1to2                    4178 non-null   int64  \n",
      " 10  Relative humidity_6to7                    4178 non-null   int64  \n",
      " 11  Relative humidity_avg(%)                  4178 non-null   int64  \n",
      " 12  windspeedKmph_7to8                        4178 non-null   int64  \n",
      " 13  windspeedKmph_1to2                        4178 non-null   int64  \n",
      " 14  windspeedKmph_6to7                        4178 non-null   int64  \n",
      " 15  windspeedKmph_avg(Km/h)                   4178 non-null   int64  \n",
      " 16  pressureMB_7to8                           4178 non-null   int64  \n",
      " 17  pressureMB_1to2                           4178 non-null   int64  \n",
      " 18  pressureMB_6to7                           4178 non-null   int64  \n",
      " 19  pressureMB_avg                            4178 non-null   int64  \n",
      " 20  precipMM_7to8                             4178 non-null   float64\n",
      " 21  precipMM_1to2                             4178 non-null   float64\n",
      " 22  precipMM_6to7                             4178 non-null   float64\n",
      " 23  precipMM_avg(mm)                          4178 non-null   float64\n",
      " 24  weatherDesc_7to8                          4178 non-null   int64  \n",
      " 25  weatherDesc_1to2                          4178 non-null   int64  \n",
      " 26  weatherDesc_6to7                          4178 non-null   int64  \n",
      " 27  weatherDesc                               4178 non-null   int64  \n",
      " 28  Sunshine Hours                            4178 non-null   float64\n",
      " 29  %_soil_moisure                            4178 non-null   int64  \n",
      " 30  soil_pH                                   4178 non-null   float64\n",
      " 31  water_pH                                  4178 non-null   float64\n",
      " 32  water_TDS_mgpl                            4178 non-null   float64\n",
      " 33  Label (Disease Yes/No)                    4178 non-null   int64  \n",
      " 34  Type of Disease (Bacterial Blight/Telya)  4178 non-null   int64  \n",
      " 35  Anthracnose                               4178 non-null   int64  \n",
      " 36  Fruit Spot/ Rot                           4178 non-null   int64  \n",
      " 37  Fusarium Wilt                             4178 non-null   int64  \n",
      " 38  Fruit Borer / Blight Blora                4178 non-null   int64  \n",
      " 39  NewLabel                                  4178 non-null   int64  \n",
      "dtypes: float64(8), int64(31), object(1)\n",
      "memory usage: 1.3+ MB\n"
     ]
    }
   ],
   "source": [
    "df.info()"
   ]
  },
  {
   "cell_type": "code",
   "execution_count": 27,
   "metadata": {},
   "outputs": [
    {
     "data": {
      "text/plain": [
       "Index(['observation', 'date', 'month', 'year', 'tempC_7to8', 'tempC_1to2',\n",
       "       'tempC_6to7', 'tempC_avg(0C)', 'Relative humidity_7to8',\n",
       "       'Relative humidity_1to2', 'Relative humidity_6to7',\n",
       "       'Relative humidity_avg(%)', 'windspeedKmph_7to8', 'windspeedKmph_1to2',\n",
       "       'windspeedKmph_6to7', 'windspeedKmph_avg(Km/h)', 'pressureMB_7to8',\n",
       "       'pressureMB_1to2', 'pressureMB_6to7', 'pressureMB_avg', 'precipMM_7to8',\n",
       "       'precipMM_1to2', 'precipMM_6to7', 'precipMM_avg(mm)',\n",
       "       'weatherDesc_7to8', 'weatherDesc_1to2', 'weatherDesc_6to7',\n",
       "       'weatherDesc', 'Sunshine Hours', '%_soil_moisure', 'soil_pH',\n",
       "       'water_pH', 'water_TDS_mgpl', 'Label (Disease Yes/No)',\n",
       "       'Type of Disease (Bacterial Blight/Telya)', 'Anthracnose',\n",
       "       'Fruit Spot/ Rot', 'Fusarium Wilt', 'Fruit Borer / Blight Blora',\n",
       "       'NewLabel'],\n",
       "      dtype='object')"
      ]
     },
     "execution_count": 27,
     "metadata": {},
     "output_type": "execute_result"
    }
   ],
   "source": [
    "df.columns"
   ]
  },
  {
   "cell_type": "code",
   "execution_count": 28,
   "metadata": {},
   "outputs": [],
   "source": [
    "# df = df[['observation', 'date', 'month', 'year', 'tempC_7to8', 'tempC_1to2',\n",
    "#        'tempC_6to7', 'tempC_avg(0C)', 'Relative humidity_7to8',\n",
    "#        'Relative humidity_1to2', 'Relative humidity_6to7',\n",
    "#        'Relative humidity_avg(%)', 'windspeedKmph_7to8', 'windspeedKmph_1to2',\n",
    "#        'windspeedKmph_6to7', 'windspeedKmph_avg(Km/h)', 'pressureMB_7to8',\n",
    "#        'pressureMB_1to2', 'pressureMB_6to7', 'pressureMB_avg', 'precipMM_7to8',\n",
    "#        'precipMM_1to2', 'precipMM_6to7', 'precipMM_avg(mm)',\n",
    "#        'weatherDesc_7to8', 'weatherDesc_1to2', 'weatherDesc_6to7',\n",
    "#        'weatherDesc', 'Sunshine Hours', '%_soil_moisure', 'soil_pH',\n",
    "#        'water_pH', 'water_TDS_mgpl']]"
   ]
  },
  {
   "cell_type": "code",
   "execution_count": 29,
   "metadata": {},
   "outputs": [
    {
     "data": {
      "text/html": [
       "<div>\n",
       "<style scoped>\n",
       "    .dataframe tbody tr th:only-of-type {\n",
       "        vertical-align: middle;\n",
       "    }\n",
       "\n",
       "    .dataframe tbody tr th {\n",
       "        vertical-align: top;\n",
       "    }\n",
       "\n",
       "    .dataframe thead th {\n",
       "        text-align: right;\n",
       "    }\n",
       "</style>\n",
       "<table border=\"1\" class=\"dataframe\">\n",
       "  <thead>\n",
       "    <tr style=\"text-align: right;\">\n",
       "      <th></th>\n",
       "      <th>tempC_avg(0C)</th>\n",
       "    </tr>\n",
       "  </thead>\n",
       "  <tbody>\n",
       "    <tr>\n",
       "      <th>0</th>\n",
       "      <td>0.30</td>\n",
       "    </tr>\n",
       "    <tr>\n",
       "      <th>1</th>\n",
       "      <td>0.40</td>\n",
       "    </tr>\n",
       "    <tr>\n",
       "      <th>2</th>\n",
       "      <td>0.35</td>\n",
       "    </tr>\n",
       "    <tr>\n",
       "      <th>3</th>\n",
       "      <td>0.35</td>\n",
       "    </tr>\n",
       "    <tr>\n",
       "      <th>4</th>\n",
       "      <td>0.35</td>\n",
       "    </tr>\n",
       "  </tbody>\n",
       "</table>\n",
       "</div>"
      ],
      "text/plain": [
       "   tempC_avg(0C)\n",
       "0           0.30\n",
       "1           0.40\n",
       "2           0.35\n",
       "3           0.35\n",
       "4           0.35"
      ]
     },
     "execution_count": 29,
     "metadata": {},
     "output_type": "execute_result"
    }
   ],
   "source": [
    "df1 = df['tempC_avg(0C)']\n",
    "scaler = MinMaxScaler(feature_range=(0,1))\n",
    "df1 = scaler.fit_transform(np.array(df1).reshape(-1,1))\n",
    "df1 = pd.DataFrame(df1, columns=['tempC_avg(0C)'])\n",
    "df1.head()"
   ]
  },
  {
   "cell_type": "code",
   "execution_count": 30,
   "metadata": {},
   "outputs": [],
   "source": [
    "# split a univariate sequence into samples\n",
    "def split_sequence(sequence, n_steps):\n",
    "    X, y = [], []\n",
    "    for i in range(len(sequence)):\n",
    "        # find the end of this pattern\n",
    "        end_ix = i + n_steps\n",
    "        # check if we are beyond the sequence\n",
    "        if end_ix > len(sequence)-1:\n",
    "            break\n",
    "        # gather input and output parts of the pattern\n",
    "        seq_x, seq_y = sequence[i:end_ix], sequence[end_ix]\n",
    "        X.append(seq_x)\n",
    "        y.append(seq_y)\n",
    "    return np.array(X), np.array(y)"
   ]
  },
  {
   "cell_type": "markdown",
   "metadata": {},
   "source": [
    "[split into train test sets](https://machinelearningmastery.com/train-test-split-for-evaluating-machine-learning-algorithms/)"
   ]
  },
  {
   "cell_type": "code",
   "execution_count": 31,
   "metadata": {},
   "outputs": [],
   "source": [
    "train, test, val = df1.iloc[:3000], df1.iloc[3000:4000], df1.iloc[4000:]\n",
    "\n",
    "test = test.reset_index(drop=True)\n",
    "val = val.reset_index(drop=True)"
   ]
  },
  {
   "cell_type": "code",
   "execution_count": 32,
   "metadata": {},
   "outputs": [],
   "source": [
    "# choose a number of time steps\n",
    "n_steps = 30\n",
    "\n",
    "# split into samples\n",
    "X_train, y_train = split_sequence(train['tempC_avg(0C)'], n_steps)\n",
    "X_test, y_test = split_sequence(test['tempC_avg(0C)'], n_steps)\n",
    "X_val, y_val = split_sequence(val['tempC_avg(0C)'], n_steps)\n",
    "\n",
    "\n",
    "# reshape from [samples, timesteps] into [samples, timesteps, features]\n",
    "n_features = 1\n",
    "X_train = X_train.reshape((X_train.shape[0], X_train.shape[1], n_features))\n",
    "X_test = X_test.reshape((X_test.shape[0], X_test.shape[1], n_features))\n",
    "X_val = X_val.reshape((X_val.shape[0], X_val.shape[1], n_features))"
   ]
  },
  {
   "cell_type": "code",
   "execution_count": 35,
   "metadata": {},
   "outputs": [
    {
     "name": "stdout",
     "output_type": "stream",
     "text": [
      "Epoch 1/50\n",
      "93/93 [==============================] - 2s 14ms/step - loss: 0.1153 - val_loss: 0.0084\n",
      "Epoch 2/50\n",
      "93/93 [==============================] - 1s 11ms/step - loss: 0.0077 - val_loss: 0.0076\n",
      "Epoch 3/50\n",
      "93/93 [==============================] - 1s 11ms/step - loss: 0.0067 - val_loss: 0.0070\n",
      "Epoch 4/50\n",
      "93/93 [==============================] - 1s 11ms/step - loss: 0.0062 - val_loss: 0.0066\n",
      "Epoch 5/50\n",
      "93/93 [==============================] - 1s 11ms/step - loss: 0.0060 - val_loss: 0.0062\n",
      "Epoch 6/50\n",
      "93/93 [==============================] - 1s 11ms/step - loss: 0.0056 - val_loss: 0.0059\n",
      "Epoch 7/50\n",
      "93/93 [==============================] - 1s 11ms/step - loss: 0.0054 - val_loss: 0.0055\n",
      "Epoch 8/50\n",
      "93/93 [==============================] - 1s 11ms/step - loss: 0.0052 - val_loss: 0.0052\n",
      "Epoch 9/50\n",
      "93/93 [==============================] - 1s 11ms/step - loss: 0.0051 - val_loss: 0.0050\n",
      "Epoch 10/50\n",
      "93/93 [==============================] - 1s 11ms/step - loss: 0.0049 - val_loss: 0.0048\n",
      "Epoch 11/50\n",
      "93/93 [==============================] - 1s 11ms/step - loss: 0.0047 - val_loss: 0.0046\n",
      "Epoch 12/50\n",
      "93/93 [==============================] - 1s 11ms/step - loss: 0.0045 - val_loss: 0.0043\n",
      "Epoch 13/50\n",
      "93/93 [==============================] - 1s 11ms/step - loss: 0.0043 - val_loss: 0.0042\n",
      "Epoch 14/50\n",
      "93/93 [==============================] - 1s 11ms/step - loss: 0.0042 - val_loss: 0.0040\n",
      "Epoch 15/50\n",
      "93/93 [==============================] - 1s 11ms/step - loss: 0.0040 - val_loss: 0.0039\n",
      "Epoch 16/50\n",
      "93/93 [==============================] - 1s 11ms/step - loss: 0.0040 - val_loss: 0.0039\n",
      "Epoch 17/50\n",
      "93/93 [==============================] - 1s 12ms/step - loss: 0.0039 - val_loss: 0.0038\n",
      "Epoch 18/50\n",
      "93/93 [==============================] - 1s 13ms/step - loss: 0.0038 - val_loss: 0.0037\n",
      "Epoch 19/50\n",
      "93/93 [==============================] - 1s 12ms/step - loss: 0.0038 - val_loss: 0.0037\n",
      "Epoch 20/50\n",
      "93/93 [==============================] - 1s 12ms/step - loss: 0.0038 - val_loss: 0.0036\n",
      "Epoch 21/50\n",
      "93/93 [==============================] - 1s 11ms/step - loss: 0.0037 - val_loss: 0.0036\n",
      "Epoch 22/50\n",
      "93/93 [==============================] - 1s 11ms/step - loss: 0.0037 - val_loss: 0.0036\n",
      "Epoch 23/50\n",
      "93/93 [==============================] - 1s 11ms/step - loss: 0.0037 - val_loss: 0.0036\n",
      "Epoch 24/50\n",
      "93/93 [==============================] - 1s 11ms/step - loss: 0.0037 - val_loss: 0.0036\n",
      "Epoch 25/50\n",
      "93/93 [==============================] - 1s 12ms/step - loss: 0.0037 - val_loss: 0.0036\n",
      "Epoch 26/50\n",
      "93/93 [==============================] - 1s 12ms/step - loss: 0.0037 - val_loss: 0.0036\n",
      "Epoch 27/50\n",
      "93/93 [==============================] - 1s 12ms/step - loss: 0.0037 - val_loss: 0.0035\n",
      "Epoch 28/50\n",
      "93/93 [==============================] - 1s 11ms/step - loss: 0.0036 - val_loss: 0.0035\n",
      "Epoch 29/50\n",
      "93/93 [==============================] - 1s 11ms/step - loss: 0.0037 - val_loss: 0.0035\n",
      "Epoch 30/50\n",
      "93/93 [==============================] - 1s 11ms/step - loss: 0.0037 - val_loss: 0.0035\n",
      "Epoch 31/50\n",
      "93/93 [==============================] - 1s 11ms/step - loss: 0.0037 - val_loss: 0.0035\n",
      "Epoch 32/50\n",
      "93/93 [==============================] - 1s 11ms/step - loss: 0.0036 - val_loss: 0.0035\n",
      "Epoch 33/50\n",
      "93/93 [==============================] - 1s 11ms/step - loss: 0.0037 - val_loss: 0.0035\n",
      "Epoch 34/50\n",
      "93/93 [==============================] - 1s 12ms/step - loss: 0.0036 - val_loss: 0.0035\n",
      "Epoch 35/50\n",
      "93/93 [==============================] - 1s 12ms/step - loss: 0.0036 - val_loss: 0.0035\n",
      "Epoch 36/50\n",
      "93/93 [==============================] - 1s 11ms/step - loss: 0.0036 - val_loss: 0.0035\n",
      "Epoch 37/50\n",
      "93/93 [==============================] - 1s 11ms/step - loss: 0.0036 - val_loss: 0.0035\n",
      "Epoch 38/50\n",
      "93/93 [==============================] - 1s 11ms/step - loss: 0.0036 - val_loss: 0.0035\n",
      "Epoch 39/50\n",
      "93/93 [==============================] - 1s 12ms/step - loss: 0.0036 - val_loss: 0.0035\n",
      "Epoch 40/50\n",
      "93/93 [==============================] - 1s 12ms/step - loss: 0.0036 - val_loss: 0.0035\n",
      "Epoch 41/50\n",
      "93/93 [==============================] - 1s 12ms/step - loss: 0.0036 - val_loss: 0.0035\n",
      "Epoch 42/50\n",
      "93/93 [==============================] - 1s 12ms/step - loss: 0.0036 - val_loss: 0.0035\n",
      "Epoch 43/50\n",
      "93/93 [==============================] - 1s 12ms/step - loss: 0.0036 - val_loss: 0.0035\n",
      "Epoch 44/50\n",
      "93/93 [==============================] - 1s 12ms/step - loss: 0.0036 - val_loss: 0.0035\n",
      "Epoch 45/50\n",
      "93/93 [==============================] - 1s 12ms/step - loss: 0.0036 - val_loss: 0.0035\n",
      "Epoch 46/50\n",
      "93/93 [==============================] - 1s 12ms/step - loss: 0.0036 - val_loss: 0.0035\n",
      "Epoch 47/50\n",
      "93/93 [==============================] - 1s 11ms/step - loss: 0.0036 - val_loss: 0.0035\n",
      "Epoch 48/50\n",
      "93/93 [==============================] - 1s 12ms/step - loss: 0.0036 - val_loss: 0.0035\n",
      "Epoch 49/50\n",
      "93/93 [==============================] - 1s 12ms/step - loss: 0.0036 - val_loss: 0.0035\n",
      "Epoch 50/50\n",
      "93/93 [==============================] - 1s 12ms/step - loss: 0.0036 - val_loss: 0.0035\n"
     ]
    }
   ],
   "source": [
    "# Vanilla LSTM for univariate time series forecasting\n",
    "# define model\n",
    "model = Sequential()\n",
    "model.add(LSTM(50, activation='relu', input_shape=(n_steps, n_features)))\n",
    "model.add(Dense(1))\n",
    "model.compile(optimizer='adam', loss='mse')\n",
    "\n",
    "# fit model\n",
    "history = model.fit(X_train, y_train, \n",
    "                    validation_data = (X_test, y_test), \n",
    "                    shuffle = False,\n",
    "                    epochs = 50, \n",
    "                    verbose = 1)"
   ]
  },
  {
   "cell_type": "code",
   "execution_count": 36,
   "metadata": {},
   "outputs": [
    {
     "data": {
      "image/png": "[encoded data removed]",
      "text/plain": [
       "<Figure size 432x288 with 1 Axes>"
      ]
     },
     "metadata": {
      "needs_background": "light"
     },
     "output_type": "display_data"
    }
   ],
   "source": [
    "# # demonstrate prediction\n",
    "# x_input = np.array([28,30,31,30,30,27,27,28,26,26,29,31,31,\n",
    "#                     31,32,30,29,32,33,33,35,34,35,33,31,30,\n",
    "#                     30,31,31,33])\n",
    "# x_input = x_input.reshape((1, n_steps, n_features))\n",
    "# yhat = model.predict(x_input)\n",
    "# print(yhat)\n",
    "\n",
    "plt.figure(figsize=(15, 5))\n",
    "plt.plot(history.history['loss'][1:])\n",
    "plt.plot(history.history['val_loss'][1:])\n",
    "plt.title('model loss')\n",
    "plt.ylabel('loss')\n",
    "plt.xlabel('epoch')\n",
    "plt.legend(['train', 'val']) # , loc='upper left'\n",
    "plt.savefig(f'model loss.png', bbox_inches='tight')\n",
    "plt.show()\n"
   ]
  },
  {
   "cell_type": "code",
   "execution_count": 37,
   "metadata": {
    "scrolled": true
   },
   "outputs": [
    {
     "name": "stdout",
     "output_type": "stream",
     "text": [
      "[0.3597925]\n",
      "1 day input [0.3       0.3       0.3       0.35      0.4       0.3       0.3\n",
      " 0.35      0.35      0.3       0.3       0.35      0.4       0.3\n",
      " 0.35      0.35      0.4       0.4       0.4       0.4       0.4\n",
      " 0.4       0.35      0.35      0.35      0.35      0.35      0.35\n",
      " 0.35      0.3597925]\n",
      "1 day output [[0.3671707]]\n",
      "2 day input [0.3        0.3        0.35       0.4        0.3        0.3\n",
      " 0.35       0.35       0.3        0.3        0.35       0.4\n",
      " 0.3        0.35       0.35       0.4        0.4        0.4\n",
      " 0.4        0.4        0.4        0.35       0.35       0.35\n",
      " 0.35       0.35       0.35       0.35       0.3597925  0.36717069]\n",
      "2 day output [[0.37232587]]\n",
      "3 day input [0.3        0.35       0.4        0.3        0.3        0.35\n",
      " 0.35       0.3        0.3        0.35       0.4        0.3\n",
      " 0.35       0.35       0.4        0.4        0.4        0.4\n",
      " 0.4        0.4        0.35       0.35       0.35       0.35\n",
      " 0.35       0.35       0.35       0.3597925  0.36717069 0.37232587]\n",
      "3 day output [[0.37586126]]\n",
      "4 day input [0.35       0.4        0.3        0.3        0.35       0.35\n",
      " 0.3        0.3        0.35       0.4        0.3        0.35\n",
      " 0.35       0.4        0.4        0.4        0.4        0.4\n",
      " 0.4        0.35       0.35       0.35       0.35       0.35\n",
      " 0.35       0.35       0.3597925  0.36717069 0.37232587 0.37586126]\n",
      "4 day output [[0.378492]]\n",
      "5 day input [0.4        0.3        0.3        0.35       0.35       0.3\n",
      " 0.3        0.35       0.4        0.3        0.35       0.35\n",
      " 0.4        0.4        0.4        0.4        0.4        0.4\n",
      " 0.35       0.35       0.35       0.35       0.35       0.35\n",
      " 0.35       0.3597925  0.36717069 0.37232587 0.37586126 0.378492  ]\n",
      "5 day output [[0.38066733]]\n",
      "6 day input [0.3        0.3        0.35       0.35       0.3        0.3\n",
      " 0.35       0.4        0.3        0.35       0.35       0.4\n",
      " 0.4        0.4        0.4        0.4        0.4        0.35\n",
      " 0.35       0.35       0.35       0.35       0.35       0.35\n",
      " 0.3597925  0.36717069 0.37232587 0.37586126 0.378492   0.38066733]\n",
      "6 day output [[0.38262126]]\n",
      "7 day input [0.3        0.35       0.35       0.3        0.3        0.35\n",
      " 0.4        0.3        0.35       0.35       0.4        0.4\n",
      " 0.4        0.4        0.4        0.4        0.35       0.35\n",
      " 0.35       0.35       0.35       0.35       0.35       0.3597925\n",
      " 0.36717069 0.37232587 0.37586126 0.378492   0.38066733 0.38262126]\n",
      "7 day output [[0.38448173]]\n",
      "8 day input [0.35       0.35       0.3        0.3        0.35       0.4\n",
      " 0.3        0.35       0.35       0.4        0.4        0.4\n",
      " 0.4        0.4        0.4        0.35       0.35       0.35\n",
      " 0.35       0.35       0.35       0.35       0.3597925  0.36717069\n",
      " 0.37232587 0.37586126 0.378492   0.38066733 0.38262126 0.38448173]\n",
      "8 day output [[0.38636097]]\n",
      "9 day input [0.35       0.3        0.3        0.35       0.4        0.3\n",
      " 0.35       0.35       0.4        0.4        0.4        0.4\n",
      " 0.4        0.4        0.35       0.35       0.35       0.35\n",
      " 0.35       0.35       0.35       0.3597925  0.36717069 0.37232587\n",
      " 0.37586126 0.378492   0.38066733 0.38262126 0.38448173 0.38636097]\n",
      "9 day output [[0.38827878]]\n",
      "10 day input [0.3        0.3        0.35       0.4        0.3        0.35\n",
      " 0.35       0.4        0.4        0.4        0.4        0.4\n",
      " 0.4        0.35       0.35       0.35       0.35       0.35\n",
      " 0.35       0.35       0.3597925  0.36717069 0.37232587 0.37586126\n",
      " 0.378492   0.38066733 0.38262126 0.38448173 0.38636097 0.38827878]\n",
      "10 day output [[0.3901888]]\n",
      "11 day input [0.3        0.35       0.4        0.3        0.35       0.35\n",
      " 0.4        0.4        0.4        0.4        0.4        0.4\n",
      " 0.35       0.35       0.35       0.35       0.35       0.35\n",
      " 0.35       0.3597925  0.36717069 0.37232587 0.37586126 0.378492\n",
      " 0.38066733 0.38262126 0.38448173 0.38636097 0.38827878 0.39018881]\n",
      "11 day output [[0.39205423]]\n",
      "12 day input [0.35       0.4        0.3        0.35       0.35       0.4\n",
      " 0.4        0.4        0.4        0.4        0.4        0.35\n",
      " 0.35       0.35       0.35       0.35       0.35       0.35\n",
      " 0.3597925  0.36717069 0.37232587 0.37586126 0.378492   0.38066733\n",
      " 0.38262126 0.38448173 0.38636097 0.38827878 0.39018881 0.39205423]\n",
      "12 day output [[0.39386714]]\n",
      "13 day input [0.4        0.3        0.35       0.35       0.4        0.4\n",
      " 0.4        0.4        0.4        0.4        0.35       0.35\n",
      " 0.35       0.35       0.35       0.35       0.35       0.3597925\n",
      " 0.36717069 0.37232587 0.37586126 0.378492   0.38066733 0.38262126\n",
      " 0.38448173 0.38636097 0.38827878 0.39018881 0.39205423 0.39386714]\n",
      "13 day output [[0.39563236]]\n",
      "14 day input [0.3        0.35       0.35       0.4        0.4        0.4\n",
      " 0.4        0.4        0.4        0.35       0.35       0.35\n",
      " 0.35       0.35       0.35       0.35       0.3597925  0.36717069\n",
      " 0.37232587 0.37586126 0.378492   0.38066733 0.38262126 0.38448173\n",
      " 0.38636097 0.38827878 0.39018881 0.39205423 0.39386714 0.39563236]\n",
      "14 day output [[0.39735174]]\n",
      "15 day input [0.35       0.35       0.4        0.4        0.4        0.4\n",
      " 0.4        0.4        0.35       0.35       0.35       0.35\n",
      " 0.35       0.35       0.35       0.3597925  0.36717069 0.37232587\n",
      " 0.37586126 0.378492   0.38066733 0.38262126 0.38448173 0.38636097\n",
      " 0.38827878 0.39018881 0.39205423 0.39386714 0.39563236 0.39735174]\n",
      "15 day output [[0.3989837]]\n",
      "16 day input [0.35       0.4        0.4        0.4        0.4        0.4\n",
      " 0.4        0.35       0.35       0.35       0.35       0.35\n",
      " 0.35       0.35       0.3597925  0.36717069 0.37232587 0.37586126\n",
      " 0.378492   0.38066733 0.38262126 0.38448173 0.38636097 0.38827878\n",
      " 0.39018881 0.39205423 0.39386714 0.39563236 0.39735174 0.39898369]\n",
      "16 day output [[0.4005511]]\n",
      "17 day input [0.4        0.4        0.4        0.4        0.4        0.4\n",
      " 0.35       0.35       0.35       0.35       0.35       0.35\n",
      " 0.35       0.3597925  0.36717069 0.37232587 0.37586126 0.378492\n",
      " 0.38066733 0.38262126 0.38448173 0.38636097 0.38827878 0.39018881\n",
      " 0.39205423 0.39386714 0.39563236 0.39735174 0.39898369 0.40055111]\n",
      "17 day output [[0.40205783]]\n",
      "18 day input [0.4        0.4        0.4        0.4        0.4        0.35\n",
      " 0.35       0.35       0.35       0.35       0.35       0.35\n",
      " 0.3597925  0.36717069 0.37232587 0.37586126 0.378492   0.38066733\n",
      " 0.38262126 0.38448173 0.38636097 0.38827878 0.39018881 0.39205423\n",
      " 0.39386714 0.39563236 0.39735174 0.39898369 0.40055111 0.40205783]\n",
      "18 day output [[0.40352246]]\n",
      "19 day input [0.4        0.4        0.4        0.4        0.35       0.35\n",
      " 0.35       0.35       0.35       0.35       0.35       0.3597925\n",
      " 0.36717069 0.37232587 0.37586126 0.378492   0.38066733 0.38262126\n",
      " 0.38448173 0.38636097 0.38827878 0.39018881 0.39205423 0.39386714\n",
      " 0.39563236 0.39735174 0.39898369 0.40055111 0.40205783 0.40352246]\n",
      "19 day output [[0.4049428]]\n",
      "20 day input [0.4        0.4        0.4        0.35       0.35       0.35\n",
      " 0.35       0.35       0.35       0.35       0.3597925  0.36717069\n",
      " 0.37232587 0.37586126 0.378492   0.38066733 0.38262126 0.38448173\n",
      " 0.38636097 0.38827878 0.39018881 0.39205423 0.39386714 0.39563236\n",
      " 0.39735174 0.39898369 0.40055111 0.40205783 0.40352246 0.40494281]\n",
      "20 day output [[0.40631863]]\n",
      "21 day input [0.4        0.4        0.35       0.35       0.35       0.35\n",
      " 0.35       0.35       0.35       0.3597925  0.36717069 0.37232587\n",
      " 0.37586126 0.378492   0.38066733 0.38262126 0.38448173 0.38636097\n",
      " 0.38827878 0.39018881 0.39205423 0.39386714 0.39563236 0.39735174\n",
      " 0.39898369 0.40055111 0.40205783 0.40352246 0.40494281 0.40631863]\n",
      "21 day output [[0.40765384]]\n",
      "22 day input [0.4        0.35       0.35       0.35       0.35       0.35\n",
      " 0.35       0.35       0.3597925  0.36717069 0.37232587 0.37586126\n",
      " 0.378492   0.38066733 0.38262126 0.38448173 0.38636097 0.38827878\n",
      " 0.39018881 0.39205423 0.39386714 0.39563236 0.39735174 0.39898369\n",
      " 0.40055111 0.40205783 0.40352246 0.40494281 0.40631863 0.40765384]\n",
      "22 day output [[0.40894455]]\n",
      "23 day input [0.35       0.35       0.35       0.35       0.35       0.35\n",
      " 0.35       0.3597925  0.36717069 0.37232587 0.37586126 0.378492\n",
      " 0.38066733 0.38262126 0.38448173 0.38636097 0.38827878 0.39018881\n",
      " 0.39205423 0.39386714 0.39563236 0.39735174 0.39898369 0.40055111\n",
      " 0.40205783 0.40352246 0.40494281 0.40631863 0.40765384 0.40894455]\n",
      "23 day output [[0.41018808]]\n",
      "24 day input [0.35       0.35       0.35       0.35       0.35       0.35\n",
      " 0.3597925  0.36717069 0.37232587 0.37586126 0.378492   0.38066733\n",
      " 0.38262126 0.38448173 0.38636097 0.38827878 0.39018881 0.39205423\n",
      " 0.39386714 0.39563236 0.39735174 0.39898369 0.40055111 0.40205783\n",
      " 0.40352246 0.40494281 0.40631863 0.40765384 0.40894455 0.41018808]\n",
      "24 day output [[0.41136488]]\n",
      "25 day input [0.35       0.35       0.35       0.35       0.35       0.3597925\n",
      " 0.36717069 0.37232587 0.37586126 0.378492   0.38066733 0.38262126\n",
      " 0.38448173 0.38636097 0.38827878 0.39018881 0.39205423 0.39386714\n",
      " 0.39563236 0.39735174 0.39898369 0.40055111 0.40205783 0.40352246\n",
      " 0.40494281 0.40631863 0.40765384 0.40894455 0.41018808 0.41136488]\n",
      "25 day output [[0.41248038]]\n",
      "26 day input [0.35       0.35       0.35       0.35       0.3597925  0.36717069\n",
      " 0.37232587 0.37586126 0.378492   0.38066733 0.38262126 0.38448173\n",
      " 0.38636097 0.38827878 0.39018881 0.39205423 0.39386714 0.39563236\n",
      " 0.39735174 0.39898369 0.40055111 0.40205783 0.40352246 0.40494281\n",
      " 0.40631863 0.40765384 0.40894455 0.41018808 0.41136488 0.41248038]\n",
      "26 day output [[0.41353968]]\n",
      "27 day input [0.35       0.35       0.35       0.3597925  0.36717069 0.37232587\n",
      " 0.37586126 0.378492   0.38066733 0.38262126 0.38448173 0.38636097\n",
      " 0.38827878 0.39018881 0.39205423 0.39386714 0.39563236 0.39735174\n",
      " 0.39898369 0.40055111 0.40205783 0.40352246 0.40494281 0.40631863\n",
      " 0.40765384 0.40894455 0.41018808 0.41136488 0.41248038 0.41353968]\n"
     ]
    },
    {
     "name": "stdout",
     "output_type": "stream",
     "text": [
      "27 day output [[0.4145472]]\n",
      "28 day input [0.35       0.35       0.3597925  0.36717069 0.37232587 0.37586126\n",
      " 0.378492   0.38066733 0.38262126 0.38448173 0.38636097 0.38827878\n",
      " 0.39018881 0.39205423 0.39386714 0.39563236 0.39735174 0.39898369\n",
      " 0.40055111 0.40205783 0.40352246 0.40494281 0.40631863 0.40765384\n",
      " 0.40894455 0.41018808 0.41136488 0.41248038 0.41353968 0.4145472 ]\n",
      "28 day output [[0.41550466]]\n",
      "29 day input [0.35       0.3597925  0.36717069 0.37232587 0.37586126 0.378492\n",
      " 0.38066733 0.38262126 0.38448173 0.38636097 0.38827878 0.39018881\n",
      " 0.39205423 0.39386714 0.39563236 0.39735174 0.39898369 0.40055111\n",
      " 0.40205783 0.40352246 0.40494281 0.40631863 0.40765384 0.40894455\n",
      " 0.41018808 0.41136488 0.41248038 0.41353968 0.4145472  0.41550466]\n",
      "29 day output [[0.41641414]]\n",
      "[0.3597925, 0.3671707, 0.37232587, 0.37586126, 0.378492, 0.38066733, 0.38262126, 0.38448173, 0.38636097, 0.38827878, 0.3901888, 0.39205423, 0.39386714, 0.39563236, 0.39735174, 0.3989837, 0.4005511, 0.40205783, 0.40352246, 0.4049428, 0.40631863, 0.40765384, 0.40894455, 0.41018808, 0.41136488, 0.41248038, 0.41353968, 0.4145472, 0.41550466, 0.41641414]\n"
     ]
    }
   ],
   "source": [
    "# Predicting For the next 30 data\n",
    "# demonstrate prediction for next 30 days\n",
    "x_input = np.array([X_test[0][i][0] for i in range(len(X_test[0]))])\n",
    "# np.array([28,30,31,30,30,27,27,28,26,26,29,31,31,\n",
    "#                     31,32,30,29,32,33,33,35,34,35,33,31,30,\n",
    "#                     30,31,31,33])\n",
    "temp_input = list(x_input)\n",
    "lst_output = []\n",
    "i = 0\n",
    "next_days = 30\n",
    "\n",
    "while (i < next_days):\n",
    "    if(len(temp_input)>n_steps):\n",
    "        x_input = np.array(temp_input[1:])\n",
    "        print(\"{} day input {}\".format(i,x_input))\n",
    "        #print(x_input)\n",
    "        x_input = x_input.reshape((1, n_steps, n_features))\n",
    "        #print(x_input)\n",
    "        yhat = model.predict(x_input, verbose=0)\n",
    "        print(\"{} day output {}\".format(i,yhat))\n",
    "        temp_input.append(yhat[0][0])\n",
    "        temp_input=temp_input[1:]\n",
    "        #print(temp_input)\n",
    "        lst_output.append(yhat[0][0])\n",
    "        i = i+1\n",
    "    else:\n",
    "        x_input = x_input.reshape((1, n_steps, n_features))\n",
    "        yhat = model.predict(x_input, verbose=0)\n",
    "        print(yhat[0])\n",
    "        temp_input.append(yhat[0][0])\n",
    "        lst_output.append(yhat[0][0])\n",
    "        i = i+1\n",
    "\n",
    "print(lst_output)"
   ]
  },
  {
   "cell_type": "code",
   "execution_count": 38,
   "metadata": {},
   "outputs": [
    {
     "data": {
      "text/plain": [
       "30"
      ]
     },
     "execution_count": 38,
     "metadata": {},
     "output_type": "execute_result"
    }
   ],
   "source": [
    "len(lst_output)"
   ]
  },
  {
   "cell_type": "code",
   "execution_count": 39,
   "metadata": {},
   "outputs": [
    {
     "data": {
      "text/plain": [
       "30"
      ]
     },
     "execution_count": 39,
     "metadata": {},
     "output_type": "execute_result"
    }
   ],
   "source": [
    "len(y_test[:next_days])"
   ]
  },
  {
   "cell_type": "code",
   "execution_count": 40,
   "metadata": {},
   "outputs": [
    {
     "data": {
      "image/png": "[encoded data removed]",
      "text/plain": [
       "<Figure size 432x288 with 1 Axes>"
      ]
     },
     "metadata": {
      "needs_background": "light"
     },
     "output_type": "display_data"
    }
   ],
   "source": [
    "plt.figure(figsize=(15, 5))\n",
    "plt.plot(np.arange(0,next_days),y_test[:next_days])\n",
    "plt.plot(np.arange(0,next_days),lst_output)\n",
    "plt.title('Next 30 day prediction')\n",
    "plt.legend(['true', 'predicted']) # , loc='upper left'\n",
    "plt.savefig(f'Next 30 day prediction.png', bbox_inches='tight')\n",
    "plt.show()"
   ]
  },
  {
   "cell_type": "code",
   "execution_count": 43,
   "metadata": {},
   "outputs": [],
   "source": [
    "yhat = model.predict(X_test)\n",
    "# print(yhat)"
   ]
  },
  {
   "cell_type": "code",
   "execution_count": 52,
   "metadata": {},
   "outputs": [
    {
     "ename": "ValueError",
     "evalue": "x and y must have same first dimension, but have shapes (970,) and (148, 1)",
     "output_type": "error",
     "traceback": [
      "\u001b[1;31m---------------------------------------------------------------------------\u001b[0m",
      "\u001b[1;31mValueError\u001b[0m                                Traceback (most recent call last)",
      "\u001b[1;32m<ipython-input-52-d25d42f8f09d>\u001b[0m in \u001b[0;36m<module>\u001b[1;34m\u001b[0m\n\u001b[0;32m      1\u001b[0m \u001b[0mplt\u001b[0m\u001b[1;33m.\u001b[0m\u001b[0mplot\u001b[0m\u001b[1;33m(\u001b[0m\u001b[0mnp\u001b[0m\u001b[1;33m.\u001b[0m\u001b[0marange\u001b[0m\u001b[1;33m(\u001b[0m\u001b[1;36m0\u001b[0m\u001b[1;33m,\u001b[0m\u001b[0mlen\u001b[0m\u001b[1;33m(\u001b[0m\u001b[0mX_test\u001b[0m\u001b[1;33m)\u001b[0m\u001b[1;33m)\u001b[0m\u001b[1;33m,\u001b[0m\u001b[0my_test\u001b[0m\u001b[1;33m[\u001b[0m\u001b[1;33m:\u001b[0m\u001b[0mlen\u001b[0m\u001b[1;33m(\u001b[0m\u001b[0mX_test\u001b[0m\u001b[1;33m)\u001b[0m\u001b[1;33m]\u001b[0m\u001b[1;33m)\u001b[0m\u001b[1;33m\u001b[0m\u001b[1;33m\u001b[0m\u001b[0m\n\u001b[1;32m----> 2\u001b[1;33m \u001b[0mplt\u001b[0m\u001b[1;33m.\u001b[0m\u001b[0mplot\u001b[0m\u001b[1;33m(\u001b[0m\u001b[0mnp\u001b[0m\u001b[1;33m.\u001b[0m\u001b[0marange\u001b[0m\u001b[1;33m(\u001b[0m\u001b[1;36m0\u001b[0m\u001b[1;33m,\u001b[0m\u001b[0mlen\u001b[0m\u001b[1;33m(\u001b[0m\u001b[0mX_test\u001b[0m\u001b[1;33m)\u001b[0m\u001b[1;33m)\u001b[0m\u001b[1;33m,\u001b[0m\u001b[0myhat\u001b[0m\u001b[1;33m)\u001b[0m\u001b[1;33m\u001b[0m\u001b[1;33m\u001b[0m\u001b[0m\n\u001b[0m\u001b[0;32m      3\u001b[0m \u001b[0mplt\u001b[0m\u001b[1;33m.\u001b[0m\u001b[0mfigure\u001b[0m\u001b[1;33m(\u001b[0m\u001b[0mfigsize\u001b[0m\u001b[1;33m=\u001b[0m\u001b[1;33m(\u001b[0m\u001b[1;36m15\u001b[0m\u001b[1;33m,\u001b[0m \u001b[1;36m5\u001b[0m\u001b[1;33m)\u001b[0m\u001b[1;33m)\u001b[0m\u001b[1;33m\u001b[0m\u001b[1;33m\u001b[0m\u001b[0m\n\u001b[0;32m      4\u001b[0m \u001b[0mplt\u001b[0m\u001b[1;33m.\u001b[0m\u001b[0mtitle\u001b[0m\u001b[1;33m(\u001b[0m\u001b[1;34m'Prediction with test dataset'\u001b[0m\u001b[1;33m)\u001b[0m\u001b[1;33m\u001b[0m\u001b[1;33m\u001b[0m\u001b[0m\n\u001b[0;32m      5\u001b[0m \u001b[0mplt\u001b[0m\u001b[1;33m.\u001b[0m\u001b[0mlegend\u001b[0m\u001b[1;33m(\u001b[0m\u001b[1;33m[\u001b[0m\u001b[1;34m'true'\u001b[0m\u001b[1;33m,\u001b[0m \u001b[1;34m'predicted'\u001b[0m\u001b[1;33m]\u001b[0m\u001b[1;33m)\u001b[0m \u001b[1;31m# , loc='upper left'\u001b[0m\u001b[1;33m\u001b[0m\u001b[1;33m\u001b[0m\u001b[0m\n",
      "\u001b[1;32mc:\\users\\munge\\appdata\\local\\programs\\python\\python36\\lib\\site-packages\\matplotlib\\pyplot.py\u001b[0m in \u001b[0;36mplot\u001b[1;34m(scalex, scaley, data, *args, **kwargs)\u001b[0m\n\u001b[0;32m   2840\u001b[0m     return gca().plot(\n\u001b[0;32m   2841\u001b[0m         \u001b[1;33m*\u001b[0m\u001b[0margs\u001b[0m\u001b[1;33m,\u001b[0m \u001b[0mscalex\u001b[0m\u001b[1;33m=\u001b[0m\u001b[0mscalex\u001b[0m\u001b[1;33m,\u001b[0m \u001b[0mscaley\u001b[0m\u001b[1;33m=\u001b[0m\u001b[0mscaley\u001b[0m\u001b[1;33m,\u001b[0m\u001b[1;33m\u001b[0m\u001b[1;33m\u001b[0m\u001b[0m\n\u001b[1;32m-> 2842\u001b[1;33m         **({\"data\": data} if data is not None else {}), **kwargs)\n\u001b[0m\u001b[0;32m   2843\u001b[0m \u001b[1;33m\u001b[0m\u001b[0m\n\u001b[0;32m   2844\u001b[0m \u001b[1;33m\u001b[0m\u001b[0m\n",
      "\u001b[1;32mc:\\users\\munge\\appdata\\local\\programs\\python\\python36\\lib\\site-packages\\matplotlib\\axes\\_axes.py\u001b[0m in \u001b[0;36mplot\u001b[1;34m(self, scalex, scaley, data, *args, **kwargs)\u001b[0m\n\u001b[0;32m   1741\u001b[0m         \"\"\"\n\u001b[0;32m   1742\u001b[0m         \u001b[0mkwargs\u001b[0m \u001b[1;33m=\u001b[0m \u001b[0mcbook\u001b[0m\u001b[1;33m.\u001b[0m\u001b[0mnormalize_kwargs\u001b[0m\u001b[1;33m(\u001b[0m\u001b[0mkwargs\u001b[0m\u001b[1;33m,\u001b[0m \u001b[0mmlines\u001b[0m\u001b[1;33m.\u001b[0m\u001b[0mLine2D\u001b[0m\u001b[1;33m)\u001b[0m\u001b[1;33m\u001b[0m\u001b[1;33m\u001b[0m\u001b[0m\n\u001b[1;32m-> 1743\u001b[1;33m         \u001b[0mlines\u001b[0m \u001b[1;33m=\u001b[0m \u001b[1;33m[\u001b[0m\u001b[1;33m*\u001b[0m\u001b[0mself\u001b[0m\u001b[1;33m.\u001b[0m\u001b[0m_get_lines\u001b[0m\u001b[1;33m(\u001b[0m\u001b[1;33m*\u001b[0m\u001b[0margs\u001b[0m\u001b[1;33m,\u001b[0m \u001b[0mdata\u001b[0m\u001b[1;33m=\u001b[0m\u001b[0mdata\u001b[0m\u001b[1;33m,\u001b[0m \u001b[1;33m**\u001b[0m\u001b[0mkwargs\u001b[0m\u001b[1;33m)\u001b[0m\u001b[1;33m]\u001b[0m\u001b[1;33m\u001b[0m\u001b[1;33m\u001b[0m\u001b[0m\n\u001b[0m\u001b[0;32m   1744\u001b[0m         \u001b[1;32mfor\u001b[0m \u001b[0mline\u001b[0m \u001b[1;32min\u001b[0m \u001b[0mlines\u001b[0m\u001b[1;33m:\u001b[0m\u001b[1;33m\u001b[0m\u001b[1;33m\u001b[0m\u001b[0m\n\u001b[0;32m   1745\u001b[0m             \u001b[0mself\u001b[0m\u001b[1;33m.\u001b[0m\u001b[0madd_line\u001b[0m\u001b[1;33m(\u001b[0m\u001b[0mline\u001b[0m\u001b[1;33m)\u001b[0m\u001b[1;33m\u001b[0m\u001b[1;33m\u001b[0m\u001b[0m\n",
      "\u001b[1;32mc:\\users\\munge\\appdata\\local\\programs\\python\\python36\\lib\\site-packages\\matplotlib\\axes\\_base.py\u001b[0m in \u001b[0;36m__call__\u001b[1;34m(self, data, *args, **kwargs)\u001b[0m\n\u001b[0;32m    271\u001b[0m                 \u001b[0mthis\u001b[0m \u001b[1;33m+=\u001b[0m \u001b[0margs\u001b[0m\u001b[1;33m[\u001b[0m\u001b[1;36m0\u001b[0m\u001b[1;33m]\u001b[0m\u001b[1;33m,\u001b[0m\u001b[1;33m\u001b[0m\u001b[1;33m\u001b[0m\u001b[0m\n\u001b[0;32m    272\u001b[0m                 \u001b[0margs\u001b[0m \u001b[1;33m=\u001b[0m \u001b[0margs\u001b[0m\u001b[1;33m[\u001b[0m\u001b[1;36m1\u001b[0m\u001b[1;33m:\u001b[0m\u001b[1;33m]\u001b[0m\u001b[1;33m\u001b[0m\u001b[1;33m\u001b[0m\u001b[0m\n\u001b[1;32m--> 273\u001b[1;33m             \u001b[1;32myield\u001b[0m \u001b[1;32mfrom\u001b[0m \u001b[0mself\u001b[0m\u001b[1;33m.\u001b[0m\u001b[0m_plot_args\u001b[0m\u001b[1;33m(\u001b[0m\u001b[0mthis\u001b[0m\u001b[1;33m,\u001b[0m \u001b[0mkwargs\u001b[0m\u001b[1;33m)\u001b[0m\u001b[1;33m\u001b[0m\u001b[1;33m\u001b[0m\u001b[0m\n\u001b[0m\u001b[0;32m    274\u001b[0m \u001b[1;33m\u001b[0m\u001b[0m\n\u001b[0;32m    275\u001b[0m     \u001b[1;32mdef\u001b[0m \u001b[0mget_next_color\u001b[0m\u001b[1;33m(\u001b[0m\u001b[0mself\u001b[0m\u001b[1;33m)\u001b[0m\u001b[1;33m:\u001b[0m\u001b[1;33m\u001b[0m\u001b[1;33m\u001b[0m\u001b[0m\n",
      "\u001b[1;32mc:\\users\\munge\\appdata\\local\\programs\\python\\python36\\lib\\site-packages\\matplotlib\\axes\\_base.py\u001b[0m in \u001b[0;36m_plot_args\u001b[1;34m(self, tup, kwargs)\u001b[0m\n\u001b[0;32m    397\u001b[0m \u001b[1;33m\u001b[0m\u001b[0m\n\u001b[0;32m    398\u001b[0m         \u001b[1;32mif\u001b[0m \u001b[0mx\u001b[0m\u001b[1;33m.\u001b[0m\u001b[0mshape\u001b[0m\u001b[1;33m[\u001b[0m\u001b[1;36m0\u001b[0m\u001b[1;33m]\u001b[0m \u001b[1;33m!=\u001b[0m \u001b[0my\u001b[0m\u001b[1;33m.\u001b[0m\u001b[0mshape\u001b[0m\u001b[1;33m[\u001b[0m\u001b[1;36m0\u001b[0m\u001b[1;33m]\u001b[0m\u001b[1;33m:\u001b[0m\u001b[1;33m\u001b[0m\u001b[1;33m\u001b[0m\u001b[0m\n\u001b[1;32m--> 399\u001b[1;33m             raise ValueError(f\"x and y must have same first dimension, but \"\n\u001b[0m\u001b[0;32m    400\u001b[0m                              f\"have shapes {x.shape} and {y.shape}\")\n\u001b[0;32m    401\u001b[0m         \u001b[1;32mif\u001b[0m \u001b[0mx\u001b[0m\u001b[1;33m.\u001b[0m\u001b[0mndim\u001b[0m \u001b[1;33m>\u001b[0m \u001b[1;36m2\u001b[0m \u001b[1;32mor\u001b[0m \u001b[0my\u001b[0m\u001b[1;33m.\u001b[0m\u001b[0mndim\u001b[0m \u001b[1;33m>\u001b[0m \u001b[1;36m2\u001b[0m\u001b[1;33m:\u001b[0m\u001b[1;33m\u001b[0m\u001b[1;33m\u001b[0m\u001b[0m\n",
      "\u001b[1;31mValueError\u001b[0m: x and y must have same first dimension, but have shapes (970,) and (148, 1)"
     ]
    },
    {
     "data": {
      "image/png": "[encoded data removed]",
      "text/plain": [
       "<Figure size 432x288 with 1 Axes>"
      ]
     },
     "metadata": {
      "needs_background": "light"
     },
     "output_type": "display_data"
    }
   ],
   "source": [
    "plt.figure(figsize=(15, 5))\n",
    "plt.plot(np.arange(0,len(X_test)),y_test[:len(X_test)])\n",
    "plt.plot(np.arange(0,len(X_test)),yhat)\n",
    "plt.title('Prediction with test dataset')\n",
    "plt.legend(['true', 'predicted']) # , loc='upper left'\n",
    "plt.savefig(f'Prediction with test dataset.png', bbox_inches='tight')\n",
    "plt.show()"
   ]
  },
  {
   "cell_type": "code",
   "execution_count": 51,
   "metadata": {},
   "outputs": [
    {
     "name": "stdout",
     "output_type": "stream",
     "text": [
      "Mean Squared Error : 0.0 \n",
      "Root Mean Squared Error : 0.06 \n",
      "Mean Absolute Error : 0.04 \n",
      "R^2 Score : 0.46 \n"
     ]
    },
    {
     "data": {
      "text/plain": [
       "{'Mean_Squared_Error': 0.0,\n",
       " 'Root_Mean_Squared_Error': 0.06,\n",
       " 'Mean_Absolute_Error': 0.04,\n",
       " 'R2Score': 0.46}"
      ]
     },
     "execution_count": 51,
     "metadata": {},
     "output_type": "execute_result"
    }
   ],
   "source": [
    "evaluate_regression_model(y_test, yhat)"
   ]
  },
  {
   "cell_type": "code",
   "execution_count": 44,
   "metadata": {},
   "outputs": [],
   "source": [
    "yhat = model.predict(X_val)\n",
    "# print(yhat)"
   ]
  },
  {
   "cell_type": "code",
   "execution_count": 54,
   "metadata": {},
   "outputs": [
    {
     "data": {
      "image/png": "[encoded data removed]",
      "text/plain": [
       "<Figure size 1080x360 with 1 Axes>"
      ]
     },
     "metadata": {
      "needs_background": "light"
     },
     "output_type": "display_data"
    }
   ],
   "source": [
    "plt.figure(figsize=(15, 5))\n",
    "plt.plot(np.arange(0,len(X_val)),y_val)\n",
    "plt.plot(np.arange(0,len(X_val)),yhat)\n",
    "plt.title('Prediction with val dataset')\n",
    "plt.legend(['true', 'predicted']) # , loc='upper left'\n",
    "plt.savefig(f'Prediction with val dataset.png', bbox_inches='tight')\n",
    "plt.show()"
   ]
  },
  {
   "cell_type": "code",
   "execution_count": 46,
   "metadata": {},
   "outputs": [],
   "source": [
    "# evaluate a regression model\n",
    "def evaluate_regression_model(y, yhat):\n",
    "    '''\n",
    "    To evaluate regression model by using Mean Squared Error, \n",
    "    Root Mean Squared Error, Mean Absolute Error and R^2 Score.\n",
    "    '''\n",
    "    try:\n",
    "        import math\n",
    "        from sklearn.metrics import mean_squared_error, mean_absolute_error, r2_score\n",
    "    except Exception as e:\n",
    "        print(f\"Exception [evaluate_regression_model] : {e} \")    \n",
    "    Mean_Squared_Error = round(mean_squared_error(y, yhat), 2)\n",
    "    Root_Mean_Squared_Error = round(math.sqrt(mean_squared_error(y, yhat)), 2)\n",
    "    Mean_Absolute_Error = round(mean_absolute_error(y, yhat), 2)\n",
    "    R2Score = round(r2_score(y, yhat), 2)\n",
    "    print(f\"Mean Squared Error : {Mean_Squared_Error} \")\n",
    "    print(f\"Root Mean Squared Error : {Root_Mean_Squared_Error} \")\n",
    "    print(f\"Mean Absolute Error : {Mean_Absolute_Error} \")\n",
    "    print(f\"R^2 Score : {R2Score} \")\n",
    "    return {\"Mean_Squared_Error\" : Mean_Squared_Error, \n",
    "            \"Root_Mean_Squared_Error\" : Root_Mean_Squared_Error, \n",
    "            \"Mean_Absolute_Error\" : Mean_Absolute_Error, \n",
    "            \"R2Score\" : R2Score}\n",
    "\n",
    "# evaluate_regression_model(y, yhat)"
   ]
  },
  {
   "cell_type": "code",
   "execution_count": 48,
   "metadata": {},
   "outputs": [
    {
     "name": "stdout",
     "output_type": "stream",
     "text": [
      "Mean Squared Error : 0.0 \n",
      "Root Mean Squared Error : 0.06 \n",
      "Mean Absolute Error : 0.04 \n",
      "R^2 Score : 0.46 \n"
     ]
    },
    {
     "data": {
      "text/plain": [
       "{'Mean_Squared_Error': 0.0,\n",
       " 'Root_Mean_Squared_Error': 0.06,\n",
       " 'Mean_Absolute_Error': 0.04,\n",
       " 'R2Score': 0.46}"
      ]
     },
     "execution_count": 48,
     "metadata": {},
     "output_type": "execute_result"
    }
   ],
   "source": [
    "evaluate_regression_model(y_val, yhat)"
   ]
  },
  {
   "cell_type": "code",
   "execution_count": null,
   "metadata": {},
   "outputs": [],
   "source": []
  }
 ],
 "metadata": {
  "kernelspec": {
   "display_name": "Python 3 (ipykernel)",
   "language": "python",
   "name": "python3"
  },
  "language_info": {
   "codemirror_mode": {
    "name": "ipython",
    "version": 3
   },
   "file_extension": ".py",
   "mimetype": "text/x-python",
   "name": "python",
   "nbconvert_exporter": "python",
   "pygments_lexer": "ipython3",
   "version": "3.10.10"
  }
 },
 "nbformat": 4,
 "nbformat_minor": 2
}
