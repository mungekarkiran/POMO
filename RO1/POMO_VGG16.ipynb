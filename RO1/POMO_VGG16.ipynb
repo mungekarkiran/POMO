{
  "nbformat": 4,
  "nbformat_minor": 0,
  "metadata": {
    "colab": {
      "name": "POMO_VGG16.ipynb",
      "provenance": [],
      "collapsed_sections": []
    },
    "kernelspec": {
      "name": "python3",
      "display_name": "Python 3"
    },
    "language_info": {
      "name": "python"
    },
    "accelerator": "GPU"
  },
  "cells": [
    {
      "cell_type": "code",
      "metadata": {
        "colab": {
          "base_uri": "https://localhost:8080/"
        },
        "id": "4WAoiIeNdqoe",
        "outputId": "659d6a7e-dcda-4b42-89c2-2431ec5a4d69"
      },
      "source": [
        "!nvidia-smi"
      ],
      "execution_count": null,
      "outputs": [
        {
          "output_type": "stream",
          "text": [
            "Thu Jul 22 09:05:53 2021       \n",
            "+-----------------------------------------------------------------------------+\n",
            "| NVIDIA-SMI 470.42.01    Driver Version: 460.32.03    CUDA Version: 11.2     |\n",
            "|-------------------------------+----------------------+----------------------+\n",
            "| GPU  Name        Persistence-M| Bus-Id        Disp.A | Volatile Uncorr. ECC |\n",
            "| Fan  Temp  Perf  Pwr:Usage/Cap|         Memory-Usage | GPU-Util  Compute M. |\n",
            "|                               |                      |               MIG M. |\n",
            "|===============================+======================+======================|\n",
            "|   0  Tesla T4            Off  | 00000000:00:04.0 Off |                    0 |\n",
            "| N/A   47C    P8    10W /  70W |      0MiB / 15109MiB |      0%      Default |\n",
            "|                               |                      |                  N/A |\n",
            "+-------------------------------+----------------------+----------------------+\n",
            "                                                                               \n",
            "+-----------------------------------------------------------------------------+\n",
            "| Processes:                                                                  |\n",
            "|  GPU   GI   CI        PID   Type   Process name                  GPU Memory |\n",
            "|        ID   ID                                                   Usage      |\n",
            "|=============================================================================|\n",
            "|  No running processes found                                                 |\n",
            "+-----------------------------------------------------------------------------+\n"
          ],
          "name": "stdout"
        }
      ]
    },
    {
      "cell_type": "code",
      "metadata": {
        "colab": {
          "base_uri": "https://localhost:8080/"
        },
        "id": "Fu1CxXTjd1Zu",
        "outputId": "76989032-5579-4083-adef-6080232faeb9"
      },
      "source": [
        "!nvidia-smi -L"
      ],
      "execution_count": null,
      "outputs": [
        {
          "output_type": "stream",
          "text": [
            "GPU 0: Tesla T4 (UUID: GPU-3081e72b-70f3-aad9-b556-fb4851f0a2ff)\n"
          ],
          "name": "stdout"
        }
      ]
    },
    {
      "cell_type": "code",
      "metadata": {
        "id": "pyQ4DjEXdSUN",
        "colab": {
          "base_uri": "https://localhost:8080/"
        },
        "outputId": "970f02b3-0f6c-4136-9ffa-3362fc283260"
      },
      "source": [
        "# To unzip \n",
        "from zipfile import ZipFile\n",
        "file_name = \"/content/drive/MyDrive/Colab Notebooks/data_82.zip\"\n",
        "with ZipFile(file_name, 'r') as zip:\n",
        "  zip.extractall()\n",
        "  print('done')"
      ],
      "execution_count": null,
      "outputs": [
        {
          "output_type": "stream",
          "text": [
            "done\n"
          ],
          "name": "stdout"
        }
      ]
    },
    {
      "cell_type": "code",
      "metadata": {
        "id": "xHmZHU3bpI3E"
      },
      "source": [
        "# import the libraries as shown below\n",
        " \n",
        "from tensorflow import keras\n",
        "from tensorflow.keras.layers import Input, Lambda, Dense, Flatten,Conv2D\n",
        "from tensorflow.keras.models import Model\n",
        "from tensorflow.keras.applications.vgg16 import VGG16\n",
        "from keras.applications.vgg16 import preprocess_input\n",
        "from tensorflow.keras.preprocessing import image\n",
        "from tensorflow.keras.preprocessing.image import ImageDataGenerator,load_img\n",
        "from tensorflow.keras.models import Sequential\n",
        "from keras.callbacks import ModelCheckpoint\n",
        "from keras.models import load_model\n",
        "from keras.preprocessing import image\n",
        "import os, time, shutil\n",
        "import numpy as np\n",
        "from glob import glob\n",
        "import matplotlib.pyplot as plt"
      ],
      "execution_count": null,
      "outputs": []
    },
    {
      "cell_type": "code",
      "metadata": {
        "id": "GqbhKwrLlEDB"
      },
      "source": [
        "# re-size all the images to this\n",
        "IMAGE_SIZE = [224, 224]\n",
        "\n",
        "train_path = '/content/data_82/train'\n",
        "valid_path = '/content/data_82/test'"
      ],
      "execution_count": null,
      "outputs": []
    },
    {
      "cell_type": "code",
      "metadata": {
        "colab": {
          "base_uri": "https://localhost:8080/"
        },
        "id": "gs2BRHTimXev",
        "outputId": "e3a76cc9-6b6e-4ccc-ff13-8668465f262f"
      },
      "source": [
        "# Import the Vgg 16 library as shown below and add preprocessing layer to the front of VGG\n",
        "# Here we will be using imagenet weights\n",
        "\n",
        "vgg16_model = VGG16(input_shape=IMAGE_SIZE + [3], weights='imagenet', include_top=False)"
      ],
      "execution_count": null,
      "outputs": [
        {
          "output_type": "stream",
          "text": [
            "Downloading data from https://storage.googleapis.com/tensorflow/keras-applications/vgg16/vgg16_weights_tf_dim_ordering_tf_kernels_notop.h5\n",
            "58892288/58889256 [==============================] - 0s 0us/step\n"
          ],
          "name": "stdout"
        }
      ]
    },
    {
      "cell_type": "code",
      "metadata": {
        "id": "p1QGyaJ0mku3"
      },
      "source": [
        "# don't train existing weights\n",
        "for layer in vgg16_model.layers:\n",
        "    layer.trainable = False"
      ],
      "execution_count": null,
      "outputs": []
    },
    {
      "cell_type": "code",
      "metadata": {
        "colab": {
          "base_uri": "https://localhost:8080/"
        },
        "id": "k5CGXMZgmrCP",
        "outputId": "d688562d-dccf-4a54-e088-b29c6201e7cc"
      },
      "source": [
        "# useful for getting number of output classes\n",
        "folders = glob('/content/data_82/train/*')\n",
        "folders"
      ],
      "execution_count": null,
      "outputs": [
        {
          "output_type": "execute_result",
          "data": {
            "text/plain": [
              "['/content/data_82/train/5',\n",
              " '/content/data_82/train/2',\n",
              " '/content/data_82/train/3',\n",
              " '/content/data_82/train/4',\n",
              " '/content/data_82/train/1',\n",
              " '/content/data_82/train/0']"
            ]
          },
          "metadata": {
            "tags": []
          },
          "execution_count": 8
        }
      ]
    },
    {
      "cell_type": "code",
      "metadata": {
        "id": "TXa222x3nCZE"
      },
      "source": [
        "# our layers - you can add more if you want\n",
        "x = Flatten()(vgg16_model.output)"
      ],
      "execution_count": null,
      "outputs": []
    },
    {
      "cell_type": "code",
      "metadata": {
        "id": "_05ZUP-CnNxP"
      },
      "source": [
        "prediction = Dense(len(folders), activation='softmax')(x)\n",
        "\n",
        "# create a model object\n",
        "model = Model(inputs=vgg16_model.input, outputs=prediction)"
      ],
      "execution_count": null,
      "outputs": []
    },
    {
      "cell_type": "code",
      "metadata": {
        "colab": {
          "base_uri": "https://localhost:8080/"
        },
        "id": "O1ptEXMZnSN7",
        "outputId": "a0eb85f2-59d4-465c-9da3-be47300e4945"
      },
      "source": [
        "# view the structure of the model\n",
        "model.summary()"
      ],
      "execution_count": null,
      "outputs": [
        {
          "output_type": "stream",
          "text": [
            "Model: \"model\"\n",
            "_________________________________________________________________\n",
            "Layer (type)                 Output Shape              Param #   \n",
            "=================================================================\n",
            "input_1 (InputLayer)         [(None, 224, 224, 3)]     0         \n",
            "_________________________________________________________________\n",
            "block1_conv1 (Conv2D)        (None, 224, 224, 64)      1792      \n",
            "_________________________________________________________________\n",
            "block1_conv2 (Conv2D)        (None, 224, 224, 64)      36928     \n",
            "_________________________________________________________________\n",
            "block1_pool (MaxPooling2D)   (None, 112, 112, 64)      0         \n",
            "_________________________________________________________________\n",
            "block2_conv1 (Conv2D)        (None, 112, 112, 128)     73856     \n",
            "_________________________________________________________________\n",
            "block2_conv2 (Conv2D)        (None, 112, 112, 128)     147584    \n",
            "_________________________________________________________________\n",
            "block2_pool (MaxPooling2D)   (None, 56, 56, 128)       0         \n",
            "_________________________________________________________________\n",
            "block3_conv1 (Conv2D)        (None, 56, 56, 256)       295168    \n",
            "_________________________________________________________________\n",
            "block3_conv2 (Conv2D)        (None, 56, 56, 256)       590080    \n",
            "_________________________________________________________________\n",
            "block3_conv3 (Conv2D)        (None, 56, 56, 256)       590080    \n",
            "_________________________________________________________________\n",
            "block3_pool (MaxPooling2D)   (None, 28, 28, 256)       0         \n",
            "_________________________________________________________________\n",
            "block4_conv1 (Conv2D)        (None, 28, 28, 512)       1180160   \n",
            "_________________________________________________________________\n",
            "block4_conv2 (Conv2D)        (None, 28, 28, 512)       2359808   \n",
            "_________________________________________________________________\n",
            "block4_conv3 (Conv2D)        (None, 28, 28, 512)       2359808   \n",
            "_________________________________________________________________\n",
            "block4_pool (MaxPooling2D)   (None, 14, 14, 512)       0         \n",
            "_________________________________________________________________\n",
            "block5_conv1 (Conv2D)        (None, 14, 14, 512)       2359808   \n",
            "_________________________________________________________________\n",
            "block5_conv2 (Conv2D)        (None, 14, 14, 512)       2359808   \n",
            "_________________________________________________________________\n",
            "block5_conv3 (Conv2D)        (None, 14, 14, 512)       2359808   \n",
            "_________________________________________________________________\n",
            "block5_pool (MaxPooling2D)   (None, 7, 7, 512)         0         \n",
            "_________________________________________________________________\n",
            "flatten (Flatten)            (None, 25088)             0         \n",
            "_________________________________________________________________\n",
            "dense (Dense)                (None, 6)                 150534    \n",
            "=================================================================\n",
            "Total params: 14,865,222\n",
            "Trainable params: 150,534\n",
            "Non-trainable params: 14,714,688\n",
            "_________________________________________________________________\n"
          ],
          "name": "stdout"
        }
      ]
    },
    {
      "cell_type": "code",
      "metadata": {
        "id": "dKTDPOvonawy"
      },
      "source": [
        "# model.compile(loss='categorical_crossentropy', optimizer='adam', metrics=['accuracy'])\n",
        "\n",
        "opt = keras.optimizers.Adam(learning_rate=0.0001)\n",
        "model.compile(optimizer=opt, loss='categorical_crossentropy', metrics=['accuracy'])"
      ],
      "execution_count": null,
      "outputs": []
    },
    {
      "cell_type": "code",
      "metadata": {
        "id": "E0aJJlLTpGNn"
      },
      "source": [
        "# Checkpoint's \n",
        "# https://keras.io/api/callbacks/model_checkpoint/\n",
        "\n",
        "filepath=\"model_vgg16-{epoch:02d}-{val_accuracy:.3f}-{val_loss:.3f}.h5\"\n",
        "checkpoint = ModelCheckpoint(filepath, \n",
        "                             monitor='val_loss', \n",
        "                             verbose=1, \n",
        "                             save_best_only=True, \n",
        "                             mode='min')\n",
        "callbacks_list = [checkpoint]"
      ],
      "execution_count": null,
      "outputs": []
    },
    {
      "cell_type": "code",
      "metadata": {
        "id": "aHC_G3s5po1e"
      },
      "source": [
        "# Use the Image Data Generator to import the images from the dataset\n",
        "# from tensorflow.keras.preprocessing.image import ImageDataGenerator\n",
        "\n",
        "train_datagen = ImageDataGenerator(rescale = 1./255,\n",
        "                                   shear_range = 0.1,\n",
        "                                   zoom_range = 0.1,\n",
        "                                   horizontal_flip = True)\n",
        "\n",
        "test_datagen = ImageDataGenerator(rescale = 1./255)"
      ],
      "execution_count": null,
      "outputs": []
    },
    {
      "cell_type": "code",
      "metadata": {
        "colab": {
          "base_uri": "https://localhost:8080/"
        },
        "id": "b7Neww1Vp9rZ",
        "outputId": "ce96586b-fe02-463e-82d5-db89f0d30195"
      },
      "source": [
        "# Make sure you provide the same target size as initialied for the image size\n",
        "training_set = train_datagen.flow_from_directory('/content/data_82/train',\n",
        "                                                 target_size = (224, 224),\n",
        "                                                 batch_size = 256,\n",
        "                                                 class_mode = 'categorical')\n",
        "\n",
        "test_set = test_datagen.flow_from_directory('/content/data_82/test',\n",
        "                                            target_size = (224, 224),\n",
        "                                            batch_size = 256,\n",
        "                                            class_mode = 'categorical')"
      ],
      "execution_count": null,
      "outputs": [
        {
          "output_type": "stream",
          "text": [
            "Found 7716 images belonging to 6 classes.\n",
            "Found 1930 images belonging to 6 classes.\n"
          ],
          "name": "stdout"
        }
      ]
    },
    {
      "cell_type": "code",
      "metadata": {
        "colab": {
          "base_uri": "https://localhost:8080/"
        },
        "id": "spEJgyHjqVO6",
        "outputId": "2cddb60d-be0b-49dd-b0f8-8f065a9a300d"
      },
      "source": [
        "# fit the model\n",
        "# Run the cell. It will take some time to execute\n",
        "\n",
        "start = time.time()\n",
        "\n",
        "r = model.fit_generator(\n",
        "  training_set,\n",
        "  validation_data=test_set,\n",
        "  epochs=50,\n",
        "  steps_per_epoch=len(training_set),\n",
        "  validation_steps=len(test_set),\n",
        "  callbacks=callbacks_list\n",
        ")\n",
        "print('\\n\\n')\n",
        "print(f'Time: {time.time() - start}')\n",
        "\n",
        "model.save('VGG16_model.h5')"
      ],
      "execution_count": null,
      "outputs": [
        {
          "output_type": "stream",
          "text": [
            "/usr/local/lib/python3.7/dist-packages/tensorflow/python/keras/engine/training.py:1940: UserWarning: `Model.fit_generator` is deprecated and will be removed in a future version. Please use `Model.fit`, which supports generators.\n",
            "  warnings.warn('`Model.fit_generator` is deprecated and '\n"
          ],
          "name": "stderr"
        },
        {
          "output_type": "stream",
          "text": [
            "Epoch 1/50\n",
            "31/31 [==============================] - 215s 5s/step - loss: 1.3974 - accuracy: 0.4864 - val_loss: 1.0612 - val_accuracy: 0.6554\n",
            "\n",
            "Epoch 00001: val_loss improved from inf to 1.06117, saving model to model_vgg16-01-0.655-1.061.h5\n",
            "Epoch 2/50\n",
            "31/31 [==============================] - 132s 4s/step - loss: 0.9836 - accuracy: 0.6878 - val_loss: 0.8377 - val_accuracy: 0.7637\n",
            "\n",
            "Epoch 00002: val_loss improved from 1.06117 to 0.83772, saving model to model_vgg16-02-0.764-0.838.h5\n",
            "Epoch 3/50\n",
            "31/31 [==============================] - 132s 4s/step - loss: 0.8067 - accuracy: 0.7666 - val_loss: 0.7185 - val_accuracy: 0.7855\n",
            "\n",
            "Epoch 00003: val_loss improved from 0.83772 to 0.71852, saving model to model_vgg16-03-0.785-0.719.h5\n",
            "Epoch 4/50\n",
            "31/31 [==============================] - 130s 4s/step - loss: 0.6947 - accuracy: 0.8130 - val_loss: 0.6291 - val_accuracy: 0.8389\n",
            "\n",
            "Epoch 00004: val_loss improved from 0.71852 to 0.62914, saving model to model_vgg16-04-0.839-0.629.h5\n",
            "Epoch 5/50\n",
            "31/31 [==============================] - 131s 4s/step - loss: 0.6128 - accuracy: 0.8432 - val_loss: 0.5710 - val_accuracy: 0.8358\n",
            "\n",
            "Epoch 00005: val_loss improved from 0.62914 to 0.57103, saving model to model_vgg16-05-0.836-0.571.h5\n",
            "Epoch 6/50\n",
            "31/31 [==============================] - 132s 4s/step - loss: 0.5527 - accuracy: 0.8605 - val_loss: 0.5087 - val_accuracy: 0.8689\n",
            "\n",
            "Epoch 00006: val_loss improved from 0.57103 to 0.50874, saving model to model_vgg16-06-0.869-0.509.h5\n",
            "Epoch 7/50\n",
            "31/31 [==============================] - 131s 4s/step - loss: 0.5036 - accuracy: 0.8747 - val_loss: 0.4775 - val_accuracy: 0.8674\n",
            "\n",
            "Epoch 00007: val_loss improved from 0.50874 to 0.47749, saving model to model_vgg16-07-0.867-0.477.h5\n",
            "Epoch 8/50\n",
            "31/31 [==============================] - 133s 4s/step - loss: 0.4580 - accuracy: 0.8917 - val_loss: 0.4345 - val_accuracy: 0.8948\n",
            "\n",
            "Epoch 00008: val_loss improved from 0.47749 to 0.43446, saving model to model_vgg16-08-0.895-0.434.h5\n",
            "Epoch 9/50\n",
            "31/31 [==============================] - 131s 4s/step - loss: 0.4187 - accuracy: 0.9046 - val_loss: 0.4034 - val_accuracy: 0.9036\n",
            "\n",
            "Epoch 00009: val_loss improved from 0.43446 to 0.40340, saving model to model_vgg16-09-0.904-0.403.h5\n",
            "Epoch 10/50\n",
            "31/31 [==============================] - 132s 4s/step - loss: 0.3930 - accuracy: 0.9094 - val_loss: 0.3758 - val_accuracy: 0.9124\n",
            "\n",
            "Epoch 00010: val_loss improved from 0.40340 to 0.37576, saving model to model_vgg16-10-0.912-0.376.h5\n",
            "Epoch 11/50\n",
            "31/31 [==============================] - 131s 4s/step - loss: 0.3626 - accuracy: 0.9222 - val_loss: 0.3543 - val_accuracy: 0.9254\n",
            "\n",
            "Epoch 00011: val_loss improved from 0.37576 to 0.35429, saving model to model_vgg16-11-0.925-0.354.h5\n",
            "Epoch 12/50\n",
            "31/31 [==============================] - 132s 4s/step - loss: 0.3386 - accuracy: 0.9288 - val_loss: 0.3348 - val_accuracy: 0.9280\n",
            "\n",
            "Epoch 00012: val_loss improved from 0.35429 to 0.33476, saving model to model_vgg16-12-0.928-0.335.h5\n",
            "Epoch 13/50\n",
            "31/31 [==============================] - 132s 4s/step - loss: 0.3219 - accuracy: 0.9330 - val_loss: 0.3157 - val_accuracy: 0.9358\n",
            "\n",
            "Epoch 00013: val_loss improved from 0.33476 to 0.31572, saving model to model_vgg16-13-0.936-0.316.h5\n",
            "Epoch 14/50\n",
            "31/31 [==============================] - 131s 4s/step - loss: 0.3031 - accuracy: 0.9413 - val_loss: 0.3015 - val_accuracy: 0.9404\n",
            "\n",
            "Epoch 00014: val_loss improved from 0.31572 to 0.30154, saving model to model_vgg16-14-0.940-0.302.h5\n",
            "Epoch 15/50\n",
            "31/31 [==============================] - 129s 4s/step - loss: 0.2839 - accuracy: 0.9428 - val_loss: 0.2879 - val_accuracy: 0.9466\n",
            "\n",
            "Epoch 00015: val_loss improved from 0.30154 to 0.28791, saving model to model_vgg16-15-0.947-0.288.h5\n",
            "Epoch 16/50\n",
            "31/31 [==============================] - 131s 4s/step - loss: 0.2714 - accuracy: 0.9473 - val_loss: 0.2762 - val_accuracy: 0.9508\n",
            "\n",
            "Epoch 00016: val_loss improved from 0.28791 to 0.27625, saving model to model_vgg16-16-0.951-0.276.h5\n",
            "Epoch 17/50\n",
            "31/31 [==============================] - 131s 4s/step - loss: 0.2561 - accuracy: 0.9530 - val_loss: 0.2650 - val_accuracy: 0.9534\n",
            "\n",
            "Epoch 00017: val_loss improved from 0.27625 to 0.26497, saving model to model_vgg16-17-0.953-0.265.h5\n",
            "Epoch 18/50\n",
            "31/31 [==============================] - 130s 4s/step - loss: 0.2432 - accuracy: 0.9559 - val_loss: 0.2603 - val_accuracy: 0.9461\n",
            "\n",
            "Epoch 00018: val_loss improved from 0.26497 to 0.26026, saving model to model_vgg16-18-0.946-0.260.h5\n",
            "Epoch 19/50\n",
            "31/31 [==============================] - 130s 4s/step - loss: 0.2335 - accuracy: 0.9562 - val_loss: 0.2454 - val_accuracy: 0.9560\n",
            "\n",
            "Epoch 00019: val_loss improved from 0.26026 to 0.24537, saving model to model_vgg16-19-0.956-0.245.h5\n",
            "Epoch 20/50\n",
            "31/31 [==============================] - 128s 4s/step - loss: 0.2220 - accuracy: 0.9600 - val_loss: 0.2400 - val_accuracy: 0.9534\n",
            "\n",
            "Epoch 00020: val_loss improved from 0.24537 to 0.24000, saving model to model_vgg16-20-0.953-0.240.h5\n",
            "Epoch 21/50\n",
            "31/31 [==============================] - 130s 4s/step - loss: 0.2164 - accuracy: 0.9580 - val_loss: 0.2282 - val_accuracy: 0.9591\n",
            "\n",
            "Epoch 00021: val_loss improved from 0.24000 to 0.22822, saving model to model_vgg16-21-0.959-0.228.h5\n",
            "Epoch 22/50\n",
            "31/31 [==============================] - 129s 4s/step - loss: 0.2104 - accuracy: 0.9592 - val_loss: 0.2245 - val_accuracy: 0.9549\n",
            "\n",
            "Epoch 00022: val_loss improved from 0.22822 to 0.22450, saving model to model_vgg16-22-0.955-0.225.h5\n",
            "Epoch 23/50\n",
            "31/31 [==============================] - 129s 4s/step - loss: 0.1970 - accuracy: 0.9647 - val_loss: 0.2145 - val_accuracy: 0.9591\n",
            "\n",
            "Epoch 00023: val_loss improved from 0.22450 to 0.21452, saving model to model_vgg16-23-0.959-0.215.h5\n",
            "Epoch 24/50\n",
            "31/31 [==============================] - 129s 4s/step - loss: 0.1907 - accuracy: 0.9655 - val_loss: 0.2100 - val_accuracy: 0.9596\n",
            "\n",
            "Epoch 00024: val_loss improved from 0.21452 to 0.21004, saving model to model_vgg16-24-0.960-0.210.h5\n",
            "Epoch 25/50\n",
            "31/31 [==============================] - 129s 4s/step - loss: 0.1817 - accuracy: 0.9697 - val_loss: 0.2019 - val_accuracy: 0.9611\n",
            "\n",
            "Epoch 00025: val_loss improved from 0.21004 to 0.20188, saving model to model_vgg16-25-0.961-0.202.h5\n",
            "Epoch 26/50\n",
            "31/31 [==============================] - 130s 4s/step - loss: 0.1764 - accuracy: 0.9721 - val_loss: 0.1980 - val_accuracy: 0.9606\n",
            "\n",
            "Epoch 00026: val_loss improved from 0.20188 to 0.19803, saving model to model_vgg16-26-0.961-0.198.h5\n",
            "Epoch 27/50\n",
            "31/31 [==============================] - 129s 4s/step - loss: 0.1710 - accuracy: 0.9728 - val_loss: 0.1936 - val_accuracy: 0.9622\n",
            "\n",
            "Epoch 00027: val_loss improved from 0.19803 to 0.19362, saving model to model_vgg16-27-0.962-0.194.h5\n",
            "Epoch 28/50\n",
            "31/31 [==============================] - 128s 4s/step - loss: 0.1661 - accuracy: 0.9729 - val_loss: 0.1869 - val_accuracy: 0.9632\n",
            "\n",
            "Epoch 00028: val_loss improved from 0.19362 to 0.18689, saving model to model_vgg16-28-0.963-0.187.h5\n",
            "Epoch 29/50\n",
            "31/31 [==============================] - 129s 4s/step - loss: 0.1601 - accuracy: 0.9729 - val_loss: 0.1859 - val_accuracy: 0.9606\n",
            "\n",
            "Epoch 00029: val_loss improved from 0.18689 to 0.18591, saving model to model_vgg16-29-0.961-0.186.h5\n",
            "Epoch 30/50\n",
            "31/31 [==============================] - 129s 4s/step - loss: 0.1535 - accuracy: 0.9785 - val_loss: 0.1777 - val_accuracy: 0.9653\n",
            "\n",
            "Epoch 00030: val_loss improved from 0.18591 to 0.17768, saving model to model_vgg16-30-0.965-0.178.h5\n",
            "Epoch 31/50\n",
            "31/31 [==============================] - 132s 4s/step - loss: 0.1475 - accuracy: 0.9791 - val_loss: 0.1741 - val_accuracy: 0.9642\n",
            "\n",
            "Epoch 00031: val_loss improved from 0.17768 to 0.17414, saving model to model_vgg16-31-0.964-0.174.h5\n",
            "Epoch 32/50\n",
            "31/31 [==============================] - 132s 4s/step - loss: 0.1443 - accuracy: 0.9786 - val_loss: 0.1695 - val_accuracy: 0.9668\n",
            "\n",
            "Epoch 00032: val_loss improved from 0.17414 to 0.16946, saving model to model_vgg16-32-0.967-0.169.h5\n",
            "Epoch 33/50\n",
            "31/31 [==============================] - 132s 4s/step - loss: 0.1387 - accuracy: 0.9787 - val_loss: 0.1650 - val_accuracy: 0.9663\n",
            "\n",
            "Epoch 00033: val_loss improved from 0.16946 to 0.16495, saving model to model_vgg16-33-0.966-0.165.h5\n",
            "Epoch 34/50\n",
            "31/31 [==============================] - 132s 4s/step - loss: 0.1365 - accuracy: 0.9808 - val_loss: 0.1631 - val_accuracy: 0.9663\n",
            "\n",
            "Epoch 00034: val_loss improved from 0.16495 to 0.16310, saving model to model_vgg16-34-0.966-0.163.h5\n",
            "Epoch 35/50\n",
            "31/31 [==============================] - 131s 4s/step - loss: 0.1319 - accuracy: 0.9817 - val_loss: 0.1616 - val_accuracy: 0.9658\n",
            "\n",
            "Epoch 00035: val_loss improved from 0.16310 to 0.16164, saving model to model_vgg16-35-0.966-0.162.h5\n",
            "Epoch 36/50\n",
            "31/31 [==============================] - 132s 4s/step - loss: 0.1274 - accuracy: 0.9822 - val_loss: 0.1617 - val_accuracy: 0.9648\n",
            "\n",
            "Epoch 00036: val_loss did not improve from 0.16164\n",
            "Epoch 37/50\n",
            "31/31 [==============================] - 131s 4s/step - loss: 0.1237 - accuracy: 0.9824 - val_loss: 0.1551 - val_accuracy: 0.9663\n",
            "\n",
            "Epoch 00037: val_loss improved from 0.16164 to 0.15508, saving model to model_vgg16-37-0.966-0.155.h5\n",
            "Epoch 38/50\n",
            "31/31 [==============================] - 132s 4s/step - loss: 0.1202 - accuracy: 0.9828 - val_loss: 0.1504 - val_accuracy: 0.9658\n",
            "\n",
            "Epoch 00038: val_loss improved from 0.15508 to 0.15036, saving model to model_vgg16-38-0.966-0.150.h5\n",
            "Epoch 39/50\n",
            "31/31 [==============================] - 130s 4s/step - loss: 0.1189 - accuracy: 0.9839 - val_loss: 0.1485 - val_accuracy: 0.9684\n",
            "\n",
            "Epoch 00039: val_loss improved from 0.15036 to 0.14847, saving model to model_vgg16-39-0.968-0.148.h5\n",
            "Epoch 40/50\n",
            "31/31 [==============================] - 130s 4s/step - loss: 0.1182 - accuracy: 0.9824 - val_loss: 0.1460 - val_accuracy: 0.9668\n",
            "\n",
            "Epoch 00040: val_loss improved from 0.14847 to 0.14597, saving model to model_vgg16-40-0.967-0.146.h5\n",
            "Epoch 41/50\n",
            "31/31 [==============================] - 130s 4s/step - loss: 0.1112 - accuracy: 0.9861 - val_loss: 0.1431 - val_accuracy: 0.9663\n",
            "\n",
            "Epoch 00041: val_loss improved from 0.14597 to 0.14306, saving model to model_vgg16-41-0.966-0.143.h5\n",
            "Epoch 42/50\n",
            "31/31 [==============================] - 133s 4s/step - loss: 0.1094 - accuracy: 0.9841 - val_loss: 0.1409 - val_accuracy: 0.9679\n",
            "\n",
            "Epoch 00042: val_loss improved from 0.14306 to 0.14087, saving model to model_vgg16-42-0.968-0.141.h5\n",
            "Epoch 43/50\n",
            "31/31 [==============================] - 135s 4s/step - loss: 0.1058 - accuracy: 0.9877 - val_loss: 0.1382 - val_accuracy: 0.9684\n",
            "\n",
            "Epoch 00043: val_loss improved from 0.14087 to 0.13821, saving model to model_vgg16-43-0.968-0.138.h5\n",
            "Epoch 44/50\n",
            "31/31 [==============================] - 131s 4s/step - loss: 0.1055 - accuracy: 0.9856 - val_loss: 0.1357 - val_accuracy: 0.9689\n",
            "\n",
            "Epoch 00044: val_loss improved from 0.13821 to 0.13570, saving model to model_vgg16-44-0.969-0.136.h5\n",
            "Epoch 45/50\n",
            "31/31 [==============================] - 130s 4s/step - loss: 0.1019 - accuracy: 0.9861 - val_loss: 0.1334 - val_accuracy: 0.9705\n",
            "\n",
            "Epoch 00045: val_loss improved from 0.13570 to 0.13338, saving model to model_vgg16-45-0.970-0.133.h5\n",
            "Epoch 46/50\n",
            "31/31 [==============================] - 131s 4s/step - loss: 0.0974 - accuracy: 0.9870 - val_loss: 0.1313 - val_accuracy: 0.9720\n",
            "\n",
            "Epoch 00046: val_loss improved from 0.13338 to 0.13125, saving model to model_vgg16-46-0.972-0.131.h5\n",
            "Epoch 47/50\n",
            "31/31 [==============================] - 129s 4s/step - loss: 0.0962 - accuracy: 0.9872 - val_loss: 0.1312 - val_accuracy: 0.9710\n",
            "\n",
            "Epoch 00047: val_loss improved from 0.13125 to 0.13121, saving model to model_vgg16-47-0.971-0.131.h5\n",
            "Epoch 48/50\n",
            "31/31 [==============================] - 130s 4s/step - loss: 0.0955 - accuracy: 0.9878 - val_loss: 0.1274 - val_accuracy: 0.9705\n",
            "\n",
            "Epoch 00048: val_loss improved from 0.13121 to 0.12736, saving model to model_vgg16-48-0.970-0.127.h5\n",
            "Epoch 49/50\n",
            "31/31 [==============================] - 128s 4s/step - loss: 0.0939 - accuracy: 0.9867 - val_loss: 0.1258 - val_accuracy: 0.9715\n",
            "\n",
            "Epoch 00049: val_loss improved from 0.12736 to 0.12580, saving model to model_vgg16-49-0.972-0.126.h5\n",
            "Epoch 50/50\n",
            "31/31 [==============================] - 128s 4s/step - loss: 0.0914 - accuracy: 0.9889 - val_loss: 0.1276 - val_accuracy: 0.9694\n",
            "\n",
            "Epoch 00050: val_loss did not improve from 0.12580\n",
            "\n",
            "\n",
            "\n",
            "Time: 6650.684417009354\n"
          ],
          "name": "stdout"
        }
      ]
    },
    {
      "cell_type": "code",
      "metadata": {
        "colab": {
          "base_uri": "https://localhost:8080/"
        },
        "id": "PukIZyCoqgVZ",
        "outputId": "888485cb-a90f-4409-ac4f-c3ad184e12be"
      },
      "source": [
        "# accuracies\n",
        "plt.plot(r.history['accuracy'], label='train accuracy')\n",
        "plt.plot(r.history['val_accuracy'], label='val accuracy')\n",
        "plt.legend()\n",
        "plt.savefig('accuracy_and_val_accuracy.png', dpi=200)\n",
        "plt.show()\n",
        " \n",
        "# loss\n",
        "plt.plot(r.history['loss'], label='train loss')\n",
        "plt.plot(r.history['val_loss'], label='val loss')\n",
        "plt.legend()\n",
        "plt.savefig('loss_and_val_loss.png', dpi=200)\n",
        "plt.show()\n"
      ],
      "execution_count": null,
      "outputs": [
        {
          "output_type": "display_data",
          "data": {
            "image/png": "[encoded data removed]",
            "text/plain": [
              "<Figure size 432x288 with 1 Axes>"
            ]
          },
          "metadata": {
            "tags": [],
            "needs_background": "light"
          }
        },
        {
          "output_type": "display_data",
          "data": {
            "image/png": "[encoded data removed]",
            "text/plain": [
              "<Figure size 432x288 with 1 Axes>"
            ]
          },
          "metadata": {
            "tags": [],
            "needs_background": "light"
          }
        }
      ]
    },
    {
      "cell_type": "code",
      "metadata": {
        "id": "bk2kVYfG-x79"
      },
      "source": [
        ""
      ],
      "execution_count": null,
      "outputs": []
    }
  ]
}